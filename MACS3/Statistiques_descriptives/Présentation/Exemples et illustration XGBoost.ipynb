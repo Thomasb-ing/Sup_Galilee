{
 "cells": [
  {
   "cell_type": "code",
   "execution_count": 4,
   "id": "0cb6a959",
   "metadata": {},
   "outputs": [],
   "source": [
    "import numpy as np\n",
    "import matplotlib.pyplot as plt\n",
    "import pandas as pd\n",
    "import seaborn as sns\n",
    "import scipy"
   ]
  },
  {
   "cell_type": "code",
   "execution_count": 84,
   "id": "39f0afd0",
   "metadata": {},
   "outputs": [],
   "source": [
    "df = pd.DataFrame({'%Alcool': [0.7,0.9], 'Goût':[0.6,0.2]})"
   ]
  },
  {
   "cell_type": "code",
   "execution_count": 85,
   "id": "fbcb7cb7",
   "metadata": {
    "scrolled": true
   },
   "outputs": [
    {
     "data": {
      "text/html": [
       "<div>\n",
       "<style scoped>\n",
       "    .dataframe tbody tr th:only-of-type {\n",
       "        vertical-align: middle;\n",
       "    }\n",
       "\n",
       "    .dataframe tbody tr th {\n",
       "        vertical-align: top;\n",
       "    }\n",
       "\n",
       "    .dataframe thead th {\n",
       "        text-align: right;\n",
       "    }\n",
       "</style>\n",
       "<table border=\"1\" class=\"dataframe\">\n",
       "  <thead>\n",
       "    <tr style=\"text-align: right;\">\n",
       "      <th></th>\n",
       "      <th>%Alcool</th>\n",
       "      <th>Goût</th>\n",
       "    </tr>\n",
       "  </thead>\n",
       "  <tbody>\n",
       "    <tr>\n",
       "      <th>0</th>\n",
       "      <td>0.7</td>\n",
       "      <td>0.6</td>\n",
       "    </tr>\n",
       "    <tr>\n",
       "      <th>1</th>\n",
       "      <td>0.9</td>\n",
       "      <td>0.2</td>\n",
       "    </tr>\n",
       "  </tbody>\n",
       "</table>\n",
       "</div>"
      ],
      "text/plain": [
       "   %Alcool  Goût\n",
       "0      0.7   0.6\n",
       "1      0.9   0.2"
      ]
     },
     "execution_count": 85,
     "metadata": {},
     "output_type": "execute_result"
    }
   ],
   "source": [
    "df"
   ]
  },
  {
   "cell_type": "code",
   "execution_count": 72,
   "id": "2adf2b46",
   "metadata": {},
   "outputs": [],
   "source": [
    "df_nan = pd.DataFrame({'%Alcool': [ np.nan,np.nan], 'Goût':[ 0.7, 0.3 ]})"
   ]
  },
  {
   "cell_type": "code",
   "execution_count": 73,
   "id": "51b5ae12",
   "metadata": {},
   "outputs": [
    {
     "data": {
      "text/html": [
       "<div>\n",
       "<style scoped>\n",
       "    .dataframe tbody tr th:only-of-type {\n",
       "        vertical-align: middle;\n",
       "    }\n",
       "\n",
       "    .dataframe tbody tr th {\n",
       "        vertical-align: top;\n",
       "    }\n",
       "\n",
       "    .dataframe thead th {\n",
       "        text-align: right;\n",
       "    }\n",
       "</style>\n",
       "<table border=\"1\" class=\"dataframe\">\n",
       "  <thead>\n",
       "    <tr style=\"text-align: right;\">\n",
       "      <th></th>\n",
       "      <th>%Alcool</th>\n",
       "      <th>Goût</th>\n",
       "    </tr>\n",
       "  </thead>\n",
       "  <tbody>\n",
       "    <tr>\n",
       "      <th>0</th>\n",
       "      <td>NaN</td>\n",
       "      <td>0.7</td>\n",
       "    </tr>\n",
       "    <tr>\n",
       "      <th>1</th>\n",
       "      <td>NaN</td>\n",
       "      <td>0.3</td>\n",
       "    </tr>\n",
       "  </tbody>\n",
       "</table>\n",
       "</div>"
      ],
      "text/plain": [
       "   %Alcool  Goût\n",
       "0      NaN   0.7\n",
       "1      NaN   0.3"
      ]
     },
     "execution_count": 73,
     "metadata": {},
     "output_type": "execute_result"
    }
   ],
   "source": [
    "df_nan"
   ]
  },
  {
   "cell_type": "code",
   "execution_count": 47,
   "id": "da6bbe73",
   "metadata": {},
   "outputs": [
    {
     "data": {
      "image/png": "[encoded data removed]",
      "text/plain": [
       "<Figure size 432x288 with 1 Axes>"
      ]
     },
     "metadata": {},
     "output_type": "display_data"
    }
   ],
   "source": [
    "sns.set()\n",
    "plt.scatter([0.1],[0.2],label=\"Boiss1\")\n",
    "plt.scatter([0.4],[0.7],label=\"Boiss2\")\n",
    "plt.scatter([0.7],[0.7],label=\"Boiss3\")\n",
    "plt.scatter([1.0],[0.1],label=\"Boiss4\")\n",
    "plt.legend(ncol=1, loc='upper left');\n",
    "plt.title(\"Goût de la boisson selon le % d'alcool\")\n",
    "plt.xlabel(\"%Alcool\")\n",
    "plt.ylabel(\"Goût\")\n",
    "plt.show()"
   ]
  },
  {
   "cell_type": "code",
   "execution_count": 44,
   "id": "32353071",
   "metadata": {},
   "outputs": [],
   "source": [
    "mean=0.5\n",
    "std=1\n",
    "df_large = pd.DataFrame({'%Alcool': np.arange(0,1,0.007), 'Goût':scipy.stats.norm.pdf(np.arange(0,1,0.007),mean,std)+np.random.rand(143)*0.012})"
   ]
  },
  {
   "cell_type": "code",
   "execution_count": 55,
   "id": "b3537a3a",
   "metadata": {
    "scrolled": true
   },
   "outputs": [
    {
     "data": {
      "text/plain": [
       "Text(0.5, 1.0, \"Goût de la boisson selon le % d'alcool\")"
      ]
     },
     "execution_count": 55,
     "metadata": {},
     "output_type": "execute_result"
    },
    {
     "data": {
      "image/png": "[encoded data removed]",
      "text/plain": [
       "<Figure size 432x288 with 1 Axes>"
      ]
     },
     "metadata": {},
     "output_type": "display_data"
    }
   ],
   "source": [
    "sns.scatterplot(data=df_large, x='%Alcool',y='Goût')\n",
    "plt.title(\"Goût de la boisson selon le % d'alcool\")"
   ]
  },
  {
   "cell_type": "code",
   "execution_count": 62,
   "id": "a3e91cba",
   "metadata": {},
   "outputs": [
    {
     "data": {
      "text/plain": [
       "(array([ 1.,  1.,  2.,  4., 10.,  4.,  3.,  7.,  3.,  5., 11.,  6., 10.,\n",
       "         6., 10.,  8., 18., 17., 10.,  7.]),\n",
       " array([0.35306575, 0.35592724, 0.35878873, 0.36165022, 0.36451171,\n",
       "        0.36737321, 0.3702347 , 0.37309619, 0.37595768, 0.37881917,\n",
       "        0.38168066, 0.38454215, 0.38740364, 0.39026513, 0.39312662,\n",
       "        0.39598811, 0.3988496 , 0.40171109, 0.40457258, 0.40743407,\n",
       "        0.41029556]),\n",
       " <BarContainer object of 20 artists>)"
      ]
     },
     "execution_count": 62,
     "metadata": {},
     "output_type": "execute_result"
    },
    {
     "data": {
      "image/png": "[encoded data removed]",
      "text/plain": [
       "<Figure size 432x288 with 1 Axes>"
      ]
     },
     "metadata": {},
     "output_type": "display_data"
    }
   ],
   "source": [
    "plt.hist(df_large[\"Goût\"],bins=20)"
   ]
  }
 ],
 "metadata": {
  "kernelspec": {
   "display_name": "Python 3",
   "language": "python",
   "name": "python3"
  },
  "language_info": {
   "codemirror_mode": {
    "name": "ipython",
    "version": 3
   },
   "file_extension": ".py",
   "mimetype": "text/x-python",
   "name": "python",
   "nbconvert_exporter": "python",
   "pygments_lexer": "ipython3",
   "version": "3.8.8"
  }
 },
 "nbformat": 4,
 "nbformat_minor": 5
}
