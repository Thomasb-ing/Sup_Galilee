{
 "cells": [
  {
   "cell_type": "code",
   "execution_count": 1,
   "id": "0cb6a959",
   "metadata": {},
   "outputs": [],
   "source": [
    "import numpy as np\n",
    "import matplotlib.pyplot as plt\n",
    "import pandas as pd\n",
    "import seaborn as sns"
   ]
  },
  {
   "cell_type": "code",
   "execution_count": 22,
   "id": "39f0afd0",
   "metadata": {},
   "outputs": [],
   "source": [
    "df = pd.DataFrame({'%Alcool': [0.1, 0.4, 0.7, 1], 'Goût':[0.2, 0.7,0.7,0.1 ]},\n",
    "                      index = ['Boiss1', 'Boiss2', 'Boiss3','Boiss4'])"
   ]
  },
  {
   "cell_type": "code",
   "execution_count": 23,
   "id": "fbcb7cb7",
   "metadata": {},
   "outputs": [
    {
     "data": {
      "text/html": [
       "<div>\n",
       "<style scoped>\n",
       "    .dataframe tbody tr th:only-of-type {\n",
       "        vertical-align: middle;\n",
       "    }\n",
       "\n",
       "    .dataframe tbody tr th {\n",
       "        vertical-align: top;\n",
       "    }\n",
       "\n",
       "    .dataframe thead th {\n",
       "        text-align: right;\n",
       "    }\n",
       "</style>\n",
       "<table border=\"1\" class=\"dataframe\">\n",
       "  <thead>\n",
       "    <tr style=\"text-align: right;\">\n",
       "      <th></th>\n",
       "      <th>%Alcool</th>\n",
       "      <th>Goût</th>\n",
       "    </tr>\n",
       "  </thead>\n",
       "  <tbody>\n",
       "    <tr>\n",
       "      <th>Boiss1</th>\n",
       "      <td>0.1</td>\n",
       "      <td>0.2</td>\n",
       "    </tr>\n",
       "    <tr>\n",
       "      <th>Boiss2</th>\n",
       "      <td>0.4</td>\n",
       "      <td>0.7</td>\n",
       "    </tr>\n",
       "    <tr>\n",
       "      <th>Boiss3</th>\n",
       "      <td>0.7</td>\n",
       "      <td>0.7</td>\n",
       "    </tr>\n",
       "    <tr>\n",
       "      <th>Boiss4</th>\n",
       "      <td>1.0</td>\n",
       "      <td>0.1</td>\n",
       "    </tr>\n",
       "  </tbody>\n",
       "</table>\n",
       "</div>"
      ],
      "text/plain": [
       "        %Alcool  Goût\n",
       "Boiss1      0.1   0.2\n",
       "Boiss2      0.4   0.7\n",
       "Boiss3      0.7   0.7\n",
       "Boiss4      1.0   0.1"
      ]
     },
     "execution_count": 23,
     "metadata": {},
     "output_type": "execute_result"
    }
   ],
   "source": [
    "df"
   ]
  },
  {
   "cell_type": "code",
   "execution_count": 25,
   "id": "da6bbe73",
   "metadata": {},
   "outputs": [
    {
     "data": {
      "image/png": "[encoded data removed]",
      "text/plain": [
       "<Figure size 432x288 with 1 Axes>"
      ]
     },
     "metadata": {},
     "output_type": "display_data"
    }
   ],
   "source": [
    "sns.set()\n",
    "plt.scatter([0.1],[0.2],label=\"Boiss1\")\n",
    "plt.scatter([0.4],[0.7],label=\"Boiss2\")\n",
    "plt.scatter([0.7],[0.7],label=\"Boiss3\")\n",
    "plt.scatter([1.0],[0.1],label=\"Boiss4\")\n",
    "plt.legend(ncol=1, loc='upper left');\n",
    "plt.title(\"Goût de la boisson selon le % d'alcool\")\n",
    "plt.xlabel(\"%Alcool\")\n",
    "plt.ylabel(\"Goût\")\n",
    "plt.show()"
   ]
  },
  {
   "cell_type": "code",
   "execution_count": 2,
   "id": "5abf5324",
   "metadata": {},
   "outputs": [],
   "source": [
    "mean=0.5\n",
    "std=1\n",
    "df_large = pd.DataFrame({'%Alcool': np.arange(0,1,100), 'Goût':scipy.stats.norm.pdf(np.arange(0,1,100),mean,std)})"
   ]
  }
 ],
 "metadata": {
  "kernelspec": {
   "display_name": "Python 3",
   "language": "python",
   "name": "python3"
  },
  "language_info": {
   "codemirror_mode": {
    "name": "ipython",
    "version": 3
   },
   "file_extension": ".py",
   "mimetype": "text/x-python",
   "name": "python",
   "nbconvert_exporter": "python",
   "pygments_lexer": "ipython3",
   "version": "3.8.8"
  }
 },
 "nbformat": 4,
 "nbformat_minor": 5
}
